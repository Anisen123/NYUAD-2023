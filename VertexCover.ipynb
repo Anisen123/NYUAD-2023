{
 "cells": [
  {
   "cell_type": "code",
   "execution_count": 1,
   "id": "1a316dd1-f630-458c-bcfc-9f8ddea98bee",
   "metadata": {},
   "outputs": [
    {
     "name": "stdout",
     "output_type": "stream",
     "text": [
      "\u001b[0;35mYou have already enabled qBraid Quantum Jobs in the qiskit environment.\u001b[0m\n"
     ]
    }
   ],
   "source": [
    "!qbraid jobs enable qiskit"
   ]
  },
  {
   "cell_type": "code",
   "execution_count": 40,
   "id": "8a99167e-1366-4039-ad18-7ed6e167d487",
   "metadata": {},
   "outputs": [],
   "source": [
    "import qiskit\n",
    "from qiskit import QuantumCircuit, assemble, Aer\n",
    "from math import pi, sqrt\n",
    "from qiskit.visualization import plot_bloch_multivector, plot_histogram\n",
    "from qiskit.circuit.library import XXPlusYYGate\n",
    "from qiskit import *\n",
    "from qiskit import transpile\n",
    "from itertools import combinations as combs\n",
    "import scipy\n",
    "from scipy import *\n",
    "from IPython.display import clear_output\n",
    "import matplotlib.pyplot as plt\n",
    "from qiskit.algorithms.optimizers import SPSA\n",
    "sim = Aer.get_backend('qasm_simulator')\n",
    "import numpy as np\n",
    "import random"
   ]
  },
  {
   "cell_type": "code",
   "execution_count": null,
   "id": "51172ae0-b069-4912-ad2e-3c2992bfd15a",
   "metadata": {},
   "outputs": [],
   "source": [
    "# edges = [[0,1],[2,3]]\n",
    "# qc = QuantumCircuit(4,4)\n",
    "# qc.x(0)\n",
    "# qc.x(1)\n",
    "# alpha_list = [1,2]\n",
    "# beta_list = [1,0]\n",
    "# for a,b in zip(alpha_list,beta_list):\n",
    "#     pH(a,qc,edges)\n",
    "#     mH(b,qc)\n",
    "# qc.measure([x for x in range(qc.num_qubits)],[x for x in range(qc.num_qubits)])\n",
    "# counts = execute(qc,sim,shots=1000).result().get_counts(qc)\n",
    "# print(counts)\n",
    "# for count in counts.keys():\n",
    "#     print(count,score_k(count,edges))\n",
    "# scorer(counts,edges)"
   ]
  },
  {
   "cell_type": "code",
   "execution_count": 41,
   "id": "57d2e465-78f6-4cba-b8dc-79cbf61cc216",
   "metadata": {},
   "outputs": [],
   "source": [
    "def score_k(k,edges):\n",
    "    sum1=0\n",
    "    for edge in edges:\n",
    "        sum1 += int(k[edge[0]])|int(k[edge[1]])\n",
    "    return sum1\n",
    "\n",
    "def scorer(counts,edges):\n",
    "    # dic=dict()\n",
    "    tot_score = 0\n",
    "    for k in counts.keys():\n",
    "        #print(k,score_k(k,edges))\n",
    "        scr=score_k(k,edges)\n",
    "        # if scr not in dic:\n",
    "        #     dic[scr]=0\n",
    "        # dic[scr]+=counts[k]\n",
    "        tot_score += counts[k]/sum(counts.values())*scr\n",
    "    # print(dic)\n",
    "    return -tot_score\n",
    "                    \n",
    "def pH(alpha,qc,edges):\n",
    "    for v_i,v_j in edges:\n",
    "        qc.rz(-alpha/4,v_i)\n",
    "        qc.rz(-alpha/4,v_j)\n",
    "        qc.cx(v_i,v_j)\n",
    "        qc.rz(-alpha/4,v_j)\n",
    "        qc.cx(v_i,v_j)\n",
    "        \n",
    "def mH(beta,qc):\n",
    "    for v_i,v_j in list(combs([x for x in range(qc.num_qubits)],2)):\n",
    "        qc.append(XXPlusYYGate(beta),[v_i,v_j])\n",
    "\n",
    "def hamiltonian_evolution_score(alpha_beta_list,args):\n",
    "    edges = args[0]\n",
    "    n = args[1]\n",
    "    init_state = args[2]\n",
    "    \n",
    "    assert(len(init_state) <= n)\n",
    "    global qc\n",
    "    qc = QuantumCircuit(n,n)\n",
    "    for i in init_state:\n",
    "        qc.x(i)\n",
    "    alpha_list = alpha_beta_list[:len(alpha_beta_list)//2]\n",
    "    beta_list = alpha_beta_list[len(alpha_beta_list)//2:]\n",
    "    for a,b in zip(alpha_list,beta_list):\n",
    "        pH(a,qc,edges)\n",
    "        mH(b,qc)\n",
    "    qc.measure([x for x in range(qc.num_qubits)],[x for x in range(qc.num_qubits)])\n",
    "    counts = execute(qc,sim,shots=1000).result().get_counts(qc)\n",
    "    score = scorer(counts,edges)\n",
    "    # print(score)\n",
    "    return score\n",
    "\n",
    "info = []\n",
    "\n",
    "def callback(x):\n",
    "    info.append(hamiltonian_evolution_score(x,args=[edges,n,init_state]))\n",
    "    plt.plot(info)\n",
    "    plt.show()\n",
    "    clear_output(wait=True)\n",
    "    # return hamiltonian_evolution_score(x,[qc,edges])\n",
    "\n",
    "def solver(edges,alpha_list,beta_list,n,init_state):\n",
    "    a_b_new = scipy.optimize.minimize(hamiltonian_evolution_score,alpha_list+beta_list,args=[edges,n,init_state],callback=callback,method='Nelder-Mead')\n",
    "    return a_b_new\n",
    "     "
   ]
  },
  {
   "cell_type": "code",
   "execution_count": null,
   "id": "51efc234-dfc0-4b44-aff7-55676aad5709",
   "metadata": {},
   "outputs": [],
   "source": [
    "# edges = [[0,1],[2,3]]\n",
    "# alpha_list = [1,2]\n",
    "# beta_list = [1,0]\n",
    "# mat = np.zeros((10,10))\n",
    "# args = edges\n",
    "# for a in range(10):\n",
    "#     print(a)\n",
    "#     for b in range(10):\n",
    "#         alpha = np.linspace(0,np.pi,10)[a]\n",
    "#         beta = np.linspace(0,np.pi,10)[b]\n",
    "#         alpha_beta_list = [alpha]*10+[beta]*10\n",
    "#         mat[a][b] = hamiltonian_evolution_score(alpha_beta_list,args)\n",
    "# print(mat.max())\n",
    "# print(mat)"
   ]
  },
  {
   "cell_type": "code",
   "execution_count": null,
   "id": "04f839a2-9b2f-4194-bcad-76ae83ff6182",
   "metadata": {},
   "outputs": [],
   "source": [
    "# a = 0\n",
    "# b = 4\n",
    "# qc = QuantumCircuit(4,4)\n",
    "# qc.x(0)\n",
    "# qc.x(1)\n",
    "# edges = args\n",
    "# alpha = np.linspace(0,np.pi,10)[a]\n",
    "# beta = np.linspace(0,np.pi,10)[b]\n",
    "# alpha_beta_list = [alpha]*10+[beta]*10\n",
    "# for a,b in zip(alpha_list,beta_list):\n",
    "#     pH(a,qc,edges)\n",
    "#     mH(b,qc)\n",
    "# qc.measure([x for x in range(qc.num_qubits)],[x for x in range(qc.num_qubits)])\n",
    "# counts = execute(qc,sim,shots=1000).result().get_counts(qc)\n",
    "# print(counts)"
   ]
  },
  {
   "cell_type": "code",
   "execution_count": null,
   "id": "1050317a-bd85-4956-b648-d5f4b66b4a37",
   "metadata": {},
   "outputs": [],
   "source": [
    "global circ, edges\n",
    "\n",
    "# edges = [[0,1],[2,3]]\n",
    "# alpha_list = [1,2]\n",
    "# beta_list = [2,0]\n",
    "# n = 4\n",
    "# k = 2\n",
    "# init_state = random.sample(range(n),k)\n",
    "# opt_sol = 2\n",
    "info = []\n",
    "clear_output(wait=True)\n",
    "n = 8\n",
    "k = 2\n",
    "p = 3\n",
    "init_state = random.sample(range(n),k)\n",
    "edges = [[0, 3],\n",
    " [0, 5],\n",
    " [0, 7],\n",
    " [1, 2],\n",
    " [1, 4],\n",
    " [1, 6],\n",
    " [2, 4],\n",
    " [2, 5],\n",
    " [2, 6],\n",
    " [2, 7],\n",
    " [3, 5],\n",
    " [3, 6],\n",
    " [3, 7],\n",
    " [4, 5],\n",
    " [4, 6],\n",
    " [4, 7],\n",
    " [5, 6],\n",
    " [5, 7],\n",
    " [6, 7]]\n",
    "alpha_list = [np.random.uniform(0,np.pi) for _ in range(p)]\n",
    "beta_list = [np.random.uniform(0,np.pi) for _ in range(p)]\n",
    "opt_sol = 12\n",
    "print(init_state)\n",
    "res = solver(edges,alpha_list,beta_list,n,init_state)\n",
    "\n",
    "alpha_beta_opt = res.x\n",
    "\n",
    "print(alpha_beta_opt)\n",
    "print(hamiltonian_evolution_score(alpha_beta_opt,args=[edges,n,init_state]))\n",
    "print(hamiltonian_evolution_score(alpha_beta_opt,args=[edges,n,init_state])/opt_sol)\n",
    "\n",
    "# counts = execute(circ,sim,shots=1000).result().get_counts(circ)\n",
    "# print(counts)\n",
    "# print(scorer(counts,[[0,1],[2,3]]))\n",
    "# circ.draw()"
   ]
  },
  {
   "cell_type": "code",
   "execution_count": 49,
   "id": "b4f4ee4f-3ad9-4382-a942-6a1ff3a9004b",
   "metadata": {},
   "outputs": [
    {
     "name": "stdout",
     "output_type": "stream",
     "text": [
      "[0.68172723 3.11384796 5.03486914 0.91427824]\n",
      "-9.465\n",
      "-0.7914166666666668\n",
      "[1, 5]\n"
     ]
    },
    {
     "data": {
      "text/plain": [
       "[<matplotlib.lines.Line2D at 0x7fb4d9258e20>]"
      ]
     },
     "execution_count": 49,
     "metadata": {},
     "output_type": "execute_result"
    },
    {
     "data": {
      "image/png": "[encoded data removed]",
      "text/plain": [
       "<Figure size 640x480 with 1 Axes>"
      ]
     },
     "metadata": {},
     "output_type": "display_data"
    }
   ],
   "source": [
    "print(alpha_beta_opt)\n",
    "print(hamiltonian_evolution_score(alpha_beta_opt,args=[edges,n,init_state]))\n",
    "print(hamiltonian_evolution_score(alpha_beta_opt,args=[edges,n,init_state])/opt_sol)\n",
    "print(init_state)\n",
    "plt.plot(info)"
   ]
  },
  {
   "cell_type": "code",
   "execution_count": 50,
   "id": "b65a4c6c-c1e9-43dc-aa58-1fd6ad0de8cb",
   "metadata": {},
   "outputs": [],
   "source": [
    "# from qiskit.circuit.library import XXPlusYYGate\n",
    "# from qiskit import transpile"
   ]
  },
  {
   "cell_type": "code",
   "execution_count": null,
   "id": "98c54248-4c2b-4d8a-b838-9b3e95aa621f",
   "metadata": {},
   "outputs": [],
   "source": [
    "# circ = QuantumCircuit(2)\n",
    "# circ.append(XXPlusYYGate(1.3),[0,1])\n",
    "# circ = transpile(circ,basis_gates=['id','x','rz','sx','cx'])\n",
    "# circ.draw('mpl')"
   ]
  },
  {
   "cell_type": "code",
   "execution_count": 60,
   "id": "c7e02fae-ef6d-40fd-a175-3af71355051f",
   "metadata": {},
   "outputs": [
    {
     "ename": "KeyboardInterrupt",
     "evalue": "",
     "output_type": "error",
     "traceback": [
      "\u001b[0;31m---------------------------------------------------------------------------\u001b[0m",
      "\u001b[0;31mKeyboardInterrupt\u001b[0m                         Traceback (most recent call last)",
      "Cell \u001b[0;32mIn[60], line 39\u001b[0m\n\u001b[1;32m     37\u001b[0m opt_sol \u001b[38;5;241m=\u001b[39m \u001b[38;5;241m12\u001b[39m\n\u001b[1;32m     38\u001b[0m \u001b[38;5;28mprint\u001b[39m(init_state)\n\u001b[0;32m---> 39\u001b[0m res \u001b[38;5;241m=\u001b[39m \u001b[43msolver\u001b[49m\u001b[43m(\u001b[49m\u001b[43medges\u001b[49m\u001b[43m,\u001b[49m\u001b[43malpha_list\u001b[49m\u001b[43m,\u001b[49m\u001b[43mbeta_list\u001b[49m\u001b[43m,\u001b[49m\u001b[43mn\u001b[49m\u001b[43m,\u001b[49m\u001b[43minit_state\u001b[49m\u001b[43m)\u001b[49m\n\u001b[1;32m     41\u001b[0m alpha_beta_opt \u001b[38;5;241m=\u001b[39m res\u001b[38;5;241m.\u001b[39mx\n\u001b[1;32m     43\u001b[0m \u001b[38;5;28mprint\u001b[39m(alpha_beta_opt)\n",
      "Cell \u001b[0;32mIn[41], line 63\u001b[0m, in \u001b[0;36msolver\u001b[0;34m(edges, alpha_list, beta_list, n, init_state)\u001b[0m\n\u001b[1;32m     62\u001b[0m \u001b[38;5;28;01mdef\u001b[39;00m \u001b[38;5;21msolver\u001b[39m(edges,alpha_list,beta_list,n,init_state):\n\u001b[0;32m---> 63\u001b[0m     a_b_new \u001b[38;5;241m=\u001b[39m \u001b[43mscipy\u001b[49m\u001b[38;5;241;43m.\u001b[39;49m\u001b[43moptimize\u001b[49m\u001b[38;5;241;43m.\u001b[39;49m\u001b[43mminimize\u001b[49m\u001b[43m(\u001b[49m\u001b[43mhamiltonian_evolution_score\u001b[49m\u001b[43m,\u001b[49m\u001b[43malpha_list\u001b[49m\u001b[38;5;241;43m+\u001b[39;49m\u001b[43mbeta_list\u001b[49m\u001b[43m,\u001b[49m\u001b[43margs\u001b[49m\u001b[38;5;241;43m=\u001b[39;49m\u001b[43m[\u001b[49m\u001b[43medges\u001b[49m\u001b[43m,\u001b[49m\u001b[43mn\u001b[49m\u001b[43m,\u001b[49m\u001b[43minit_state\u001b[49m\u001b[43m]\u001b[49m\u001b[43m,\u001b[49m\u001b[43mcallback\u001b[49m\u001b[38;5;241;43m=\u001b[39;49m\u001b[43mcallback\u001b[49m\u001b[43m,\u001b[49m\u001b[43mmethod\u001b[49m\u001b[38;5;241;43m=\u001b[39;49m\u001b[38;5;124;43m'\u001b[39;49m\u001b[38;5;124;43mNelder-Mead\u001b[39;49m\u001b[38;5;124;43m'\u001b[39;49m\u001b[43m)\u001b[49m\n\u001b[1;32m     64\u001b[0m     \u001b[38;5;28;01mreturn\u001b[39;00m a_b_new\n",
      "File \u001b[0;32m/opt/.qbraid/environments/qbraid_000000/pyenv/lib/python3.9/site-packages/scipy/optimize/_minimize.py:684\u001b[0m, in \u001b[0;36mminimize\u001b[0;34m(fun, x0, args, method, jac, hess, hessp, bounds, constraints, tol, callback, options)\u001b[0m\n\u001b[1;32m    681\u001b[0m     bounds \u001b[38;5;241m=\u001b[39m standardize_bounds(bounds, x0, meth)\n\u001b[1;32m    683\u001b[0m \u001b[38;5;28;01mif\u001b[39;00m meth \u001b[38;5;241m==\u001b[39m \u001b[38;5;124m'\u001b[39m\u001b[38;5;124mnelder-mead\u001b[39m\u001b[38;5;124m'\u001b[39m:\n\u001b[0;32m--> 684\u001b[0m     res \u001b[38;5;241m=\u001b[39m \u001b[43m_minimize_neldermead\u001b[49m\u001b[43m(\u001b[49m\u001b[43mfun\u001b[49m\u001b[43m,\u001b[49m\u001b[43m \u001b[49m\u001b[43mx0\u001b[49m\u001b[43m,\u001b[49m\u001b[43m \u001b[49m\u001b[43margs\u001b[49m\u001b[43m,\u001b[49m\u001b[43m \u001b[49m\u001b[43mcallback\u001b[49m\u001b[43m,\u001b[49m\u001b[43m \u001b[49m\u001b[43mbounds\u001b[49m\u001b[38;5;241;43m=\u001b[39;49m\u001b[43mbounds\u001b[49m\u001b[43m,\u001b[49m\n\u001b[1;32m    685\u001b[0m \u001b[43m                               \u001b[49m\u001b[38;5;241;43m*\u001b[39;49m\u001b[38;5;241;43m*\u001b[39;49m\u001b[43moptions\u001b[49m\u001b[43m)\u001b[49m\n\u001b[1;32m    686\u001b[0m \u001b[38;5;28;01melif\u001b[39;00m meth \u001b[38;5;241m==\u001b[39m \u001b[38;5;124m'\u001b[39m\u001b[38;5;124mpowell\u001b[39m\u001b[38;5;124m'\u001b[39m:\n\u001b[1;32m    687\u001b[0m     res \u001b[38;5;241m=\u001b[39m _minimize_powell(fun, x0, args, callback, bounds, \u001b[38;5;241m*\u001b[39m\u001b[38;5;241m*\u001b[39moptions)\n",
      "File \u001b[0;32m/opt/.qbraid/environments/qbraid_000000/pyenv/lib/python3.9/site-packages/scipy/optimize/_optimize.py:907\u001b[0m, in \u001b[0;36m_minimize_neldermead\u001b[0;34m(func, x0, args, callback, maxiter, maxfev, disp, return_all, initial_simplex, xatol, fatol, adaptive, bounds, **unknown_options)\u001b[0m\n\u001b[1;32m    905\u001b[0m \u001b[38;5;28;01mif\u001b[39;00m bounds \u001b[38;5;129;01mis\u001b[39;00m \u001b[38;5;129;01mnot\u001b[39;00m \u001b[38;5;28;01mNone\u001b[39;00m:\n\u001b[1;32m    906\u001b[0m     xcc \u001b[38;5;241m=\u001b[39m np\u001b[38;5;241m.\u001b[39mclip(xcc, lower_bound, upper_bound)\n\u001b[0;32m--> 907\u001b[0m fxcc \u001b[38;5;241m=\u001b[39m \u001b[43mfunc\u001b[49m\u001b[43m(\u001b[49m\u001b[43mxcc\u001b[49m\u001b[43m)\u001b[49m\n\u001b[1;32m    909\u001b[0m \u001b[38;5;28;01mif\u001b[39;00m fxcc \u001b[38;5;241m<\u001b[39m fsim[\u001b[38;5;241m-\u001b[39m\u001b[38;5;241m1\u001b[39m]:\n\u001b[1;32m    910\u001b[0m     sim[\u001b[38;5;241m-\u001b[39m\u001b[38;5;241m1\u001b[39m] \u001b[38;5;241m=\u001b[39m xcc\n",
      "File \u001b[0;32m/opt/.qbraid/environments/qbraid_000000/pyenv/lib/python3.9/site-packages/scipy/optimize/_optimize.py:569\u001b[0m, in \u001b[0;36m_wrap_scalar_function_maxfun_validation.<locals>.function_wrapper\u001b[0;34m(x, *wrapper_args)\u001b[0m\n\u001b[1;32m    567\u001b[0m ncalls[\u001b[38;5;241m0\u001b[39m] \u001b[38;5;241m+\u001b[39m\u001b[38;5;241m=\u001b[39m \u001b[38;5;241m1\u001b[39m\n\u001b[1;32m    568\u001b[0m \u001b[38;5;66;03m# A copy of x is sent to the user function (gh13740)\u001b[39;00m\n\u001b[0;32m--> 569\u001b[0m fx \u001b[38;5;241m=\u001b[39m \u001b[43mfunction\u001b[49m\u001b[43m(\u001b[49m\u001b[43mnp\u001b[49m\u001b[38;5;241;43m.\u001b[39;49m\u001b[43mcopy\u001b[49m\u001b[43m(\u001b[49m\u001b[43mx\u001b[49m\u001b[43m)\u001b[49m\u001b[43m,\u001b[49m\u001b[43m \u001b[49m\u001b[38;5;241;43m*\u001b[39;49m\u001b[43m(\u001b[49m\u001b[43mwrapper_args\u001b[49m\u001b[43m \u001b[49m\u001b[38;5;241;43m+\u001b[39;49m\u001b[43m \u001b[49m\u001b[43margs\u001b[49m\u001b[43m)\u001b[49m\u001b[43m)\u001b[49m\n\u001b[1;32m    570\u001b[0m \u001b[38;5;66;03m# Ideally, we'd like to a have a true scalar returned from f(x). For\u001b[39;00m\n\u001b[1;32m    571\u001b[0m \u001b[38;5;66;03m# backwards-compatibility, also allow np.array([1.3]),\u001b[39;00m\n\u001b[1;32m    572\u001b[0m \u001b[38;5;66;03m# np.array([[1.3]]) etc.\u001b[39;00m\n\u001b[1;32m    573\u001b[0m \u001b[38;5;28;01mif\u001b[39;00m \u001b[38;5;129;01mnot\u001b[39;00m np\u001b[38;5;241m.\u001b[39misscalar(fx):\n",
      "Cell \u001b[0;32mIn[41], line 48\u001b[0m, in \u001b[0;36mhamiltonian_evolution_score\u001b[0;34m(alpha_beta_list, args)\u001b[0m\n\u001b[1;32m     46\u001b[0m     mH(b,qc)\n\u001b[1;32m     47\u001b[0m qc\u001b[38;5;241m.\u001b[39mmeasure([x \u001b[38;5;28;01mfor\u001b[39;00m x \u001b[38;5;129;01min\u001b[39;00m \u001b[38;5;28mrange\u001b[39m(qc\u001b[38;5;241m.\u001b[39mnum_qubits)],[x \u001b[38;5;28;01mfor\u001b[39;00m x \u001b[38;5;129;01min\u001b[39;00m \u001b[38;5;28mrange\u001b[39m(qc\u001b[38;5;241m.\u001b[39mnum_qubits)])\n\u001b[0;32m---> 48\u001b[0m counts \u001b[38;5;241m=\u001b[39m \u001b[43mexecute\u001b[49m\u001b[43m(\u001b[49m\u001b[43mqc\u001b[49m\u001b[43m,\u001b[49m\u001b[43msim\u001b[49m\u001b[43m,\u001b[49m\u001b[43mshots\u001b[49m\u001b[38;5;241;43m=\u001b[39;49m\u001b[38;5;241;43m1000\u001b[39;49m\u001b[43m)\u001b[49m\u001b[38;5;241m.\u001b[39mresult()\u001b[38;5;241m.\u001b[39mget_counts(qc)\n\u001b[1;32m     49\u001b[0m score \u001b[38;5;241m=\u001b[39m scorer(counts,edges)\n\u001b[1;32m     50\u001b[0m \u001b[38;5;66;03m# print(score)\u001b[39;00m\n",
      "File \u001b[0;32m/opt/.qbraid/environments/qbraid_000000/pyenv/lib/python3.9/site-packages/qiskit/execute_function.py:302\u001b[0m, in \u001b[0;36mexecute\u001b[0;34m(experiments, backend, basis_gates, coupling_map, backend_properties, initial_layout, seed_transpiler, optimization_level, pass_manager, qobj_id, qobj_header, shots, memory, max_credits, seed_simulator, default_qubit_los, default_meas_los, qubit_lo_range, meas_lo_range, schedule_los, meas_level, meas_return, memory_slots, memory_slot_size, rep_time, rep_delay, parameter_binds, schedule_circuit, inst_map, meas_map, scheduling_method, init_qubits, **run_config)\u001b[0m\n\u001b[1;32m    299\u001b[0m     experiments \u001b[38;5;241m=\u001b[39m pass_manager\u001b[38;5;241m.\u001b[39mrun(experiments)\n\u001b[1;32m    300\u001b[0m \u001b[38;5;28;01melse\u001b[39;00m:\n\u001b[1;32m    301\u001b[0m     \u001b[38;5;66;03m# transpiling the circuits using given transpile options\u001b[39;00m\n\u001b[0;32m--> 302\u001b[0m     experiments \u001b[38;5;241m=\u001b[39m \u001b[43mtranspile\u001b[49m\u001b[43m(\u001b[49m\n\u001b[1;32m    303\u001b[0m \u001b[43m        \u001b[49m\u001b[43mexperiments\u001b[49m\u001b[43m,\u001b[49m\n\u001b[1;32m    304\u001b[0m \u001b[43m        \u001b[49m\u001b[43mbasis_gates\u001b[49m\u001b[38;5;241;43m=\u001b[39;49m\u001b[43mbasis_gates\u001b[49m\u001b[43m,\u001b[49m\n\u001b[1;32m    305\u001b[0m \u001b[43m        \u001b[49m\u001b[43mcoupling_map\u001b[49m\u001b[38;5;241;43m=\u001b[39;49m\u001b[43mcoupling_map\u001b[49m\u001b[43m,\u001b[49m\n\u001b[1;32m    306\u001b[0m \u001b[43m        \u001b[49m\u001b[43mbackend_properties\u001b[49m\u001b[38;5;241;43m=\u001b[39;49m\u001b[43mbackend_properties\u001b[49m\u001b[43m,\u001b[49m\n\u001b[1;32m    307\u001b[0m \u001b[43m        \u001b[49m\u001b[43minitial_layout\u001b[49m\u001b[38;5;241;43m=\u001b[39;49m\u001b[43minitial_layout\u001b[49m\u001b[43m,\u001b[49m\n\u001b[1;32m    308\u001b[0m \u001b[43m        \u001b[49m\u001b[43mseed_transpiler\u001b[49m\u001b[38;5;241;43m=\u001b[39;49m\u001b[43mseed_transpiler\u001b[49m\u001b[43m,\u001b[49m\n\u001b[1;32m    309\u001b[0m \u001b[43m        \u001b[49m\u001b[43moptimization_level\u001b[49m\u001b[38;5;241;43m=\u001b[39;49m\u001b[43moptimization_level\u001b[49m\u001b[43m,\u001b[49m\n\u001b[1;32m    310\u001b[0m \u001b[43m        \u001b[49m\u001b[43mbackend\u001b[49m\u001b[38;5;241;43m=\u001b[39;49m\u001b[43mbackend\u001b[49m\u001b[43m,\u001b[49m\n\u001b[1;32m    311\u001b[0m \u001b[43m    \u001b[49m\u001b[43m)\u001b[49m\n\u001b[1;32m    313\u001b[0m \u001b[38;5;28;01mif\u001b[39;00m schedule_circuit:\n\u001b[1;32m    314\u001b[0m     experiments \u001b[38;5;241m=\u001b[39m schedule(\n\u001b[1;32m    315\u001b[0m         circuits\u001b[38;5;241m=\u001b[39mexperiments,\n\u001b[1;32m    316\u001b[0m         backend\u001b[38;5;241m=\u001b[39mbackend,\n\u001b[0;32m   (...)\u001b[0m\n\u001b[1;32m    319\u001b[0m         method\u001b[38;5;241m=\u001b[39mscheduling_method,\n\u001b[1;32m    320\u001b[0m     )\n",
      "File \u001b[0;32m/opt/.qbraid/environments/qbraid_000000/pyenv/lib/python3.9/site-packages/qiskit/compiler/transpiler.py:381\u001b[0m, in \u001b[0;36mtranspile\u001b[0;34m(circuits, backend, basis_gates, inst_map, coupling_map, backend_properties, initial_layout, layout_method, routing_method, translation_method, scheduling_method, instruction_durations, dt, approximation_degree, timing_constraints, seed_transpiler, optimization_level, callback, output_name, unitary_synthesis_method, unitary_synthesis_plugin_config, target, hls_config, init_method, optimization_method, ignore_backend_supplied_default_methods)\u001b[0m\n\u001b[1;32m    378\u001b[0m     \u001b[38;5;28;01mfor\u001b[39;00m circuit, unique_args \u001b[38;5;129;01min\u001b[39;00m \u001b[38;5;28mzip\u001b[39m(circuits, unique_transpile_args):\n\u001b[1;32m    379\u001b[0m         transpile_config, pass_manager \u001b[38;5;241m=\u001b[39m _combine_args(shared_args, unique_args)\n\u001b[1;32m    380\u001b[0m         output_circuits\u001b[38;5;241m.\u001b[39mappend(\n\u001b[0;32m--> 381\u001b[0m             \u001b[43m_serial_transpile_circuit\u001b[49m\u001b[43m(\u001b[49m\n\u001b[1;32m    382\u001b[0m \u001b[43m                \u001b[49m\u001b[43mcircuit\u001b[49m\u001b[43m,\u001b[49m\n\u001b[1;32m    383\u001b[0m \u001b[43m                \u001b[49m\u001b[43mpass_manager\u001b[49m\u001b[43m,\u001b[49m\n\u001b[1;32m    384\u001b[0m \u001b[43m                \u001b[49m\u001b[43mtranspile_config\u001b[49m\u001b[43m[\u001b[49m\u001b[38;5;124;43m\"\u001b[39;49m\u001b[38;5;124;43mcallback\u001b[39;49m\u001b[38;5;124;43m\"\u001b[39;49m\u001b[43m]\u001b[49m\u001b[43m,\u001b[49m\n\u001b[1;32m    385\u001b[0m \u001b[43m                \u001b[49m\u001b[43mtranspile_config\u001b[49m\u001b[43m[\u001b[49m\u001b[38;5;124;43m\"\u001b[39;49m\u001b[38;5;124;43moutput_name\u001b[39;49m\u001b[38;5;124;43m\"\u001b[39;49m\u001b[43m]\u001b[49m\u001b[43m,\u001b[49m\n\u001b[1;32m    386\u001b[0m \u001b[43m                \u001b[49m\u001b[43mtranspile_config\u001b[49m\u001b[43m[\u001b[49m\u001b[38;5;124;43m\"\u001b[39;49m\u001b[38;5;124;43mbackend_num_qubits\u001b[39;49m\u001b[38;5;124;43m\"\u001b[39;49m\u001b[43m]\u001b[49m\u001b[43m,\u001b[49m\n\u001b[1;32m    387\u001b[0m \u001b[43m                \u001b[49m\u001b[43mtranspile_config\u001b[49m\u001b[43m[\u001b[49m\u001b[38;5;124;43m\"\u001b[39;49m\u001b[38;5;124;43mfaulty_qubits_map\u001b[39;49m\u001b[38;5;124;43m\"\u001b[39;49m\u001b[43m]\u001b[49m\u001b[43m,\u001b[49m\n\u001b[1;32m    388\u001b[0m \u001b[43m                \u001b[49m\u001b[43mtranspile_config\u001b[49m\u001b[43m[\u001b[49m\u001b[38;5;124;43m\"\u001b[39;49m\u001b[38;5;124;43mpass_manager_config\u001b[39;49m\u001b[38;5;124;43m\"\u001b[39;49m\u001b[43m]\u001b[49m\u001b[38;5;241;43m.\u001b[39;49m\u001b[43mbackend_properties\u001b[49m\u001b[43m,\u001b[49m\n\u001b[1;32m    389\u001b[0m \u001b[43m            \u001b[49m\u001b[43m)\u001b[49m\n\u001b[1;32m    390\u001b[0m         )\n\u001b[1;32m    391\u001b[0m     circuits \u001b[38;5;241m=\u001b[39m output_circuits\n\u001b[1;32m    392\u001b[0m end_time \u001b[38;5;241m=\u001b[39m time()\n",
      "File \u001b[0;32m/opt/.qbraid/environments/qbraid_000000/pyenv/lib/python3.9/site-packages/qiskit/compiler/transpiler.py:474\u001b[0m, in \u001b[0;36m_serial_transpile_circuit\u001b[0;34m(circuit, pass_manager, callback, output_name, num_qubits, faulty_qubits_map, backend_prop)\u001b[0m\n\u001b[1;32m    465\u001b[0m \u001b[38;5;28;01mdef\u001b[39;00m \u001b[38;5;21m_serial_transpile_circuit\u001b[39m(\n\u001b[1;32m    466\u001b[0m     circuit,\n\u001b[1;32m    467\u001b[0m     pass_manager,\n\u001b[0;32m   (...)\u001b[0m\n\u001b[1;32m    472\u001b[0m     backend_prop\u001b[38;5;241m=\u001b[39m\u001b[38;5;28;01mNone\u001b[39;00m,\n\u001b[1;32m    473\u001b[0m ):\n\u001b[0;32m--> 474\u001b[0m     result \u001b[38;5;241m=\u001b[39m \u001b[43mpass_manager\u001b[49m\u001b[38;5;241;43m.\u001b[39;49m\u001b[43mrun\u001b[49m\u001b[43m(\u001b[49m\u001b[43mcircuit\u001b[49m\u001b[43m,\u001b[49m\u001b[43m \u001b[49m\u001b[43mcallback\u001b[49m\u001b[38;5;241;43m=\u001b[39;49m\u001b[43mcallback\u001b[49m\u001b[43m,\u001b[49m\u001b[43m \u001b[49m\u001b[43moutput_name\u001b[49m\u001b[38;5;241;43m=\u001b[39;49m\u001b[43moutput_name\u001b[49m\u001b[43m)\u001b[49m\n\u001b[1;32m    475\u001b[0m     \u001b[38;5;28;01mif\u001b[39;00m faulty_qubits_map:\n\u001b[1;32m    476\u001b[0m         \u001b[38;5;28;01mreturn\u001b[39;00m _remap_circuit_faulty_backend(\n\u001b[1;32m    477\u001b[0m             result,\n\u001b[1;32m    478\u001b[0m             num_qubits,\n\u001b[1;32m    479\u001b[0m             backend_prop,\n\u001b[1;32m    480\u001b[0m             faulty_qubits_map,\n\u001b[1;32m    481\u001b[0m         )\n",
      "File \u001b[0;32m/opt/.qbraid/environments/qbraid_000000/pyenv/lib/python3.9/site-packages/qiskit/transpiler/passmanager.py:528\u001b[0m, in \u001b[0;36mStagedPassManager.run\u001b[0;34m(self, circuits, output_name, callback)\u001b[0m\n\u001b[1;32m    521\u001b[0m \u001b[38;5;28;01mdef\u001b[39;00m \u001b[38;5;21mrun\u001b[39m(\n\u001b[1;32m    522\u001b[0m     \u001b[38;5;28mself\u001b[39m,\n\u001b[1;32m    523\u001b[0m     circuits: Union[QuantumCircuit, List[QuantumCircuit]],\n\u001b[1;32m    524\u001b[0m     output_name: \u001b[38;5;28mstr\u001b[39m \u001b[38;5;241m=\u001b[39m \u001b[38;5;28;01mNone\u001b[39;00m,\n\u001b[1;32m    525\u001b[0m     callback: Callable \u001b[38;5;241m=\u001b[39m \u001b[38;5;28;01mNone\u001b[39;00m,\n\u001b[1;32m    526\u001b[0m ) \u001b[38;5;241m-\u001b[39m\u001b[38;5;241m>\u001b[39m Union[QuantumCircuit, List[QuantumCircuit]]:\n\u001b[1;32m    527\u001b[0m     \u001b[38;5;28mself\u001b[39m\u001b[38;5;241m.\u001b[39m_update_passmanager()\n\u001b[0;32m--> 528\u001b[0m     \u001b[38;5;28;01mreturn\u001b[39;00m \u001b[38;5;28;43msuper\u001b[39;49m\u001b[43m(\u001b[49m\u001b[43m)\u001b[49m\u001b[38;5;241;43m.\u001b[39;49m\u001b[43mrun\u001b[49m\u001b[43m(\u001b[49m\u001b[43mcircuits\u001b[49m\u001b[43m,\u001b[49m\u001b[43m \u001b[49m\u001b[43moutput_name\u001b[49m\u001b[43m,\u001b[49m\u001b[43m \u001b[49m\u001b[43mcallback\u001b[49m\u001b[43m)\u001b[49m\n",
      "File \u001b[0;32m/opt/.qbraid/environments/qbraid_000000/pyenv/lib/python3.9/site-packages/qiskit/transpiler/passmanager.py:228\u001b[0m, in \u001b[0;36mPassManager.run\u001b[0;34m(self, circuits, output_name, callback)\u001b[0m\n\u001b[1;32m    226\u001b[0m     \u001b[38;5;28;01mreturn\u001b[39;00m circuits\n\u001b[1;32m    227\u001b[0m \u001b[38;5;28;01mif\u001b[39;00m \u001b[38;5;28misinstance\u001b[39m(circuits, QuantumCircuit):\n\u001b[0;32m--> 228\u001b[0m     \u001b[38;5;28;01mreturn\u001b[39;00m \u001b[38;5;28;43mself\u001b[39;49m\u001b[38;5;241;43m.\u001b[39;49m\u001b[43m_run_single_circuit\u001b[49m\u001b[43m(\u001b[49m\u001b[43mcircuits\u001b[49m\u001b[43m,\u001b[49m\u001b[43m \u001b[49m\u001b[43moutput_name\u001b[49m\u001b[43m,\u001b[49m\u001b[43m \u001b[49m\u001b[43mcallback\u001b[49m\u001b[43m)\u001b[49m\n\u001b[1;32m    229\u001b[0m \u001b[38;5;28;01mif\u001b[39;00m \u001b[38;5;28mlen\u001b[39m(circuits) \u001b[38;5;241m==\u001b[39m \u001b[38;5;241m1\u001b[39m:\n\u001b[1;32m    230\u001b[0m     \u001b[38;5;28;01mreturn\u001b[39;00m \u001b[38;5;28mself\u001b[39m\u001b[38;5;241m.\u001b[39m_run_single_circuit(circuits[\u001b[38;5;241m0\u001b[39m], output_name, callback)\n",
      "File \u001b[0;32m/opt/.qbraid/environments/qbraid_000000/pyenv/lib/python3.9/site-packages/qiskit/transpiler/passmanager.py:283\u001b[0m, in \u001b[0;36mPassManager._run_single_circuit\u001b[0;34m(self, circuit, output_name, callback)\u001b[0m\n\u001b[1;32m    271\u001b[0m \u001b[38;5;250m\u001b[39m\u001b[38;5;124;03m\"\"\"Run all the passes on a ``circuit``.\u001b[39;00m\n\u001b[1;32m    272\u001b[0m \n\u001b[1;32m    273\u001b[0m \u001b[38;5;124;03mArgs:\u001b[39;00m\n\u001b[0;32m   (...)\u001b[0m\n\u001b[1;32m    280\u001b[0m \u001b[38;5;124;03m    The transformed circuit.\u001b[39;00m\n\u001b[1;32m    281\u001b[0m \u001b[38;5;124;03m\"\"\"\u001b[39;00m\n\u001b[1;32m    282\u001b[0m running_passmanager \u001b[38;5;241m=\u001b[39m \u001b[38;5;28mself\u001b[39m\u001b[38;5;241m.\u001b[39m_create_running_passmanager()\n\u001b[0;32m--> 283\u001b[0m result \u001b[38;5;241m=\u001b[39m \u001b[43mrunning_passmanager\u001b[49m\u001b[38;5;241;43m.\u001b[39;49m\u001b[43mrun\u001b[49m\u001b[43m(\u001b[49m\u001b[43mcircuit\u001b[49m\u001b[43m,\u001b[49m\u001b[43m \u001b[49m\u001b[43moutput_name\u001b[49m\u001b[38;5;241;43m=\u001b[39;49m\u001b[43moutput_name\u001b[49m\u001b[43m,\u001b[49m\u001b[43m \u001b[49m\u001b[43mcallback\u001b[49m\u001b[38;5;241;43m=\u001b[39;49m\u001b[43mcallback\u001b[49m\u001b[43m)\u001b[49m\n\u001b[1;32m    284\u001b[0m \u001b[38;5;28mself\u001b[39m\u001b[38;5;241m.\u001b[39mproperty_set \u001b[38;5;241m=\u001b[39m running_passmanager\u001b[38;5;241m.\u001b[39mproperty_set\n\u001b[1;32m    285\u001b[0m \u001b[38;5;28;01mreturn\u001b[39;00m result\n",
      "File \u001b[0;32m/opt/.qbraid/environments/qbraid_000000/pyenv/lib/python3.9/site-packages/qiskit/transpiler/runningpassmanager.py:125\u001b[0m, in \u001b[0;36mRunningPassManager.run\u001b[0;34m(***failed resolving arguments***)\u001b[0m\n\u001b[1;32m    123\u001b[0m \u001b[38;5;28;01mfor\u001b[39;00m passset \u001b[38;5;129;01min\u001b[39;00m \u001b[38;5;28mself\u001b[39m\u001b[38;5;241m.\u001b[39mworking_list:\n\u001b[1;32m    124\u001b[0m     \u001b[38;5;28;01mfor\u001b[39;00m pass_ \u001b[38;5;129;01min\u001b[39;00m passset:\n\u001b[0;32m--> 125\u001b[0m         dag \u001b[38;5;241m=\u001b[39m \u001b[38;5;28;43mself\u001b[39;49m\u001b[38;5;241;43m.\u001b[39;49m\u001b[43m_do_pass\u001b[49m\u001b[43m(\u001b[49m\u001b[43mpass_\u001b[49m\u001b[43m,\u001b[49m\u001b[43m \u001b[49m\u001b[43mdag\u001b[49m\u001b[43m,\u001b[49m\u001b[43m \u001b[49m\u001b[43mpassset\u001b[49m\u001b[38;5;241;43m.\u001b[39;49m\u001b[43moptions\u001b[49m\u001b[43m)\u001b[49m\n\u001b[1;32m    127\u001b[0m circuit \u001b[38;5;241m=\u001b[39m dag_to_circuit(dag)\n\u001b[1;32m    128\u001b[0m \u001b[38;5;28;01mif\u001b[39;00m output_name:\n",
      "File \u001b[0;32m/opt/.qbraid/environments/qbraid_000000/pyenv/lib/python3.9/site-packages/qiskit/transpiler/runningpassmanager.py:173\u001b[0m, in \u001b[0;36mRunningPassManager._do_pass\u001b[0;34m(self, pass_, dag, options)\u001b[0m\n\u001b[1;32m    171\u001b[0m \u001b[38;5;66;03m# Run the pass itself, if not already run\u001b[39;00m\n\u001b[1;32m    172\u001b[0m \u001b[38;5;28;01mif\u001b[39;00m pass_ \u001b[38;5;129;01mnot\u001b[39;00m \u001b[38;5;129;01min\u001b[39;00m \u001b[38;5;28mself\u001b[39m\u001b[38;5;241m.\u001b[39mvalid_passes:\n\u001b[0;32m--> 173\u001b[0m     dag \u001b[38;5;241m=\u001b[39m \u001b[38;5;28;43mself\u001b[39;49m\u001b[38;5;241;43m.\u001b[39;49m\u001b[43m_run_this_pass\u001b[49m\u001b[43m(\u001b[49m\u001b[43mpass_\u001b[49m\u001b[43m,\u001b[49m\u001b[43m \u001b[49m\u001b[43mdag\u001b[49m\u001b[43m)\u001b[49m\n\u001b[1;32m    175\u001b[0m     \u001b[38;5;66;03m# update the valid_passes property\u001b[39;00m\n\u001b[1;32m    176\u001b[0m     \u001b[38;5;28mself\u001b[39m\u001b[38;5;241m.\u001b[39m_update_valid_passes(pass_)\n",
      "File \u001b[0;32m/opt/.qbraid/environments/qbraid_000000/pyenv/lib/python3.9/site-packages/qiskit/transpiler/runningpassmanager.py:202\u001b[0m, in \u001b[0;36mRunningPassManager._run_this_pass\u001b[0;34m(self, pass_, dag)\u001b[0m\n\u001b[1;32m    199\u001b[0m \u001b[38;5;28;01mif\u001b[39;00m pass_\u001b[38;5;241m.\u001b[39mis_transformation_pass:\n\u001b[1;32m    200\u001b[0m     \u001b[38;5;66;03m# Measure time if we have a callback or logging set\u001b[39;00m\n\u001b[1;32m    201\u001b[0m     start_time \u001b[38;5;241m=\u001b[39m time()\n\u001b[0;32m--> 202\u001b[0m     new_dag \u001b[38;5;241m=\u001b[39m \u001b[43mpass_\u001b[49m\u001b[38;5;241;43m.\u001b[39;49m\u001b[43mrun\u001b[49m\u001b[43m(\u001b[49m\u001b[43mdag\u001b[49m\u001b[43m)\u001b[49m\n\u001b[1;32m    203\u001b[0m     end_time \u001b[38;5;241m=\u001b[39m time()\n\u001b[1;32m    204\u001b[0m     run_time \u001b[38;5;241m=\u001b[39m end_time \u001b[38;5;241m-\u001b[39m start_time\n",
      "File \u001b[0;32m/opt/.qbraid/environments/qbraid_000000/pyenv/lib/python3.9/site-packages/qiskit/transpiler/passes/utils/control_flow.py:56\u001b[0m, in \u001b[0;36mtrivial_recurse.<locals>.out\u001b[0;34m(self, dag)\u001b[0m\n\u001b[1;32m     54\u001b[0m \u001b[38;5;28;01mfor\u001b[39;00m node \u001b[38;5;129;01min\u001b[39;00m dag\u001b[38;5;241m.\u001b[39mop_nodes(ControlFlowOp):\n\u001b[1;32m     55\u001b[0m     node\u001b[38;5;241m.\u001b[39mop \u001b[38;5;241m=\u001b[39m map_blocks(bound_wrapped_method, node\u001b[38;5;241m.\u001b[39mop)\n\u001b[0;32m---> 56\u001b[0m \u001b[38;5;28;01mreturn\u001b[39;00m \u001b[43mmethod\u001b[49m\u001b[43m(\u001b[49m\u001b[38;5;28;43mself\u001b[39;49m\u001b[43m,\u001b[49m\u001b[43m \u001b[49m\u001b[43mdag\u001b[49m\u001b[43m)\u001b[49m\n",
      "File \u001b[0;32m/opt/.qbraid/environments/qbraid_000000/pyenv/lib/python3.9/site-packages/qiskit/transpiler/passes/optimization/optimize_1q_decomposition.py:137\u001b[0m, in \u001b[0;36mOptimize1qGatesDecomposition.run\u001b[0;34m(self, dag)\u001b[0m\n\u001b[1;32m    135\u001b[0m \u001b[38;5;28;01mfor\u001b[39;00m run \u001b[38;5;129;01min\u001b[39;00m runs:\n\u001b[1;32m    136\u001b[0m     qubit \u001b[38;5;241m=\u001b[39m qubit_indices[run[\u001b[38;5;241m0\u001b[39m]\u001b[38;5;241m.\u001b[39mqargs[\u001b[38;5;241m0\u001b[39m]]\n\u001b[0;32m--> 137\u001b[0m     new_dag \u001b[38;5;241m=\u001b[39m \u001b[38;5;28;43mself\u001b[39;49m\u001b[38;5;241;43m.\u001b[39;49m\u001b[43m_resynthesize_run\u001b[49m\u001b[43m(\u001b[49m\u001b[43mrun\u001b[49m\u001b[43m,\u001b[49m\u001b[43m \u001b[49m\u001b[43mqubit\u001b[49m\u001b[43m)\u001b[49m\n\u001b[1;32m    139\u001b[0m     \u001b[38;5;28;01mif\u001b[39;00m \u001b[38;5;28mself\u001b[39m\u001b[38;5;241m.\u001b[39m_target \u001b[38;5;129;01mis\u001b[39;00m \u001b[38;5;28;01mNone\u001b[39;00m:\n\u001b[1;32m    140\u001b[0m         basis \u001b[38;5;241m=\u001b[39m \u001b[38;5;28mself\u001b[39m\u001b[38;5;241m.\u001b[39m_basis_gates\n",
      "File \u001b[0;32m/opt/.qbraid/environments/qbraid_000000/pyenv/lib/python3.9/site-packages/qiskit/transpiler/passes/optimization/optimize_1q_decomposition.py:83\u001b[0m, in \u001b[0;36mOptimize1qGatesDecomposition._resynthesize_run\u001b[0;34m(self, run, qubit)\u001b[0m\n\u001b[1;32m     80\u001b[0m \u001b[38;5;28;01melse\u001b[39;00m:\n\u001b[1;32m     81\u001b[0m     decomposers \u001b[38;5;241m=\u001b[39m \u001b[38;5;28mself\u001b[39m\u001b[38;5;241m.\u001b[39m_global_decomposers\n\u001b[0;32m---> 83\u001b[0m new_circs \u001b[38;5;241m=\u001b[39m [decomposer\u001b[38;5;241m.\u001b[39m_decompose(operator) \u001b[38;5;28;01mfor\u001b[39;00m decomposer \u001b[38;5;129;01min\u001b[39;00m decomposers]\n\u001b[1;32m     85\u001b[0m \u001b[38;5;28;01mif\u001b[39;00m \u001b[38;5;28mlen\u001b[39m(new_circs) \u001b[38;5;241m==\u001b[39m \u001b[38;5;241m0\u001b[39m:\n\u001b[1;32m     86\u001b[0m     \u001b[38;5;28;01mreturn\u001b[39;00m \u001b[38;5;28;01mNone\u001b[39;00m\n",
      "File \u001b[0;32m/opt/.qbraid/environments/qbraid_000000/pyenv/lib/python3.9/site-packages/qiskit/transpiler/passes/optimization/optimize_1q_decomposition.py:83\u001b[0m, in \u001b[0;36m<listcomp>\u001b[0;34m(.0)\u001b[0m\n\u001b[1;32m     80\u001b[0m \u001b[38;5;28;01melse\u001b[39;00m:\n\u001b[1;32m     81\u001b[0m     decomposers \u001b[38;5;241m=\u001b[39m \u001b[38;5;28mself\u001b[39m\u001b[38;5;241m.\u001b[39m_global_decomposers\n\u001b[0;32m---> 83\u001b[0m new_circs \u001b[38;5;241m=\u001b[39m [\u001b[43mdecomposer\u001b[49m\u001b[38;5;241;43m.\u001b[39;49m\u001b[43m_decompose\u001b[49m\u001b[43m(\u001b[49m\u001b[43moperator\u001b[49m\u001b[43m)\u001b[49m \u001b[38;5;28;01mfor\u001b[39;00m decomposer \u001b[38;5;129;01min\u001b[39;00m decomposers]\n\u001b[1;32m     85\u001b[0m \u001b[38;5;28;01mif\u001b[39;00m \u001b[38;5;28mlen\u001b[39m(new_circs) \u001b[38;5;241m==\u001b[39m \u001b[38;5;241m0\u001b[39m:\n\u001b[1;32m     86\u001b[0m     \u001b[38;5;28;01mreturn\u001b[39;00m \u001b[38;5;28;01mNone\u001b[39;00m\n",
      "File \u001b[0;32m/opt/.qbraid/environments/qbraid_000000/pyenv/lib/python3.9/site-packages/qiskit/quantum_info/synthesis/one_qubit_decompose.py:191\u001b[0m, in \u001b[0;36mOneQubitEulerDecomposer._decompose\u001b[0;34m(self, unitary, simplify, atol)\u001b[0m\n\u001b[1;32m    189\u001b[0m \u001b[38;5;28;01mdef\u001b[39;00m \u001b[38;5;21m_decompose\u001b[39m(\u001b[38;5;28mself\u001b[39m, unitary, simplify\u001b[38;5;241m=\u001b[39m\u001b[38;5;28;01mTrue\u001b[39;00m, atol\u001b[38;5;241m=\u001b[39mDEFAULT_ATOL):\n\u001b[1;32m    190\u001b[0m     theta, phi, lam, phase \u001b[38;5;241m=\u001b[39m \u001b[38;5;28mself\u001b[39m\u001b[38;5;241m.\u001b[39m_params(unitary)\n\u001b[0;32m--> 191\u001b[0m     circuit \u001b[38;5;241m=\u001b[39m \u001b[38;5;28;43mself\u001b[39;49m\u001b[38;5;241;43m.\u001b[39;49m\u001b[43m_circuit\u001b[49m\u001b[43m(\u001b[49m\u001b[43mtheta\u001b[49m\u001b[43m,\u001b[49m\u001b[43m \u001b[49m\u001b[43mphi\u001b[49m\u001b[43m,\u001b[49m\u001b[43m \u001b[49m\u001b[43mlam\u001b[49m\u001b[43m,\u001b[49m\u001b[43m \u001b[49m\u001b[43mphase\u001b[49m\u001b[43m,\u001b[49m\u001b[43m \u001b[49m\u001b[43msimplify\u001b[49m\u001b[38;5;241;43m=\u001b[39;49m\u001b[43msimplify\u001b[49m\u001b[43m,\u001b[49m\u001b[43m \u001b[49m\u001b[43matol\u001b[49m\u001b[38;5;241;43m=\u001b[39;49m\u001b[43matol\u001b[49m\u001b[43m)\u001b[49m\n\u001b[1;32m    192\u001b[0m     \u001b[38;5;28;01mreturn\u001b[39;00m circuit\n",
      "File \u001b[0;32m/opt/.qbraid/environments/qbraid_000000/pyenv/lib/python3.9/site-packages/qiskit/quantum_info/synthesis/one_qubit_decompose.py:356\u001b[0m, in \u001b[0;36mOneQubitEulerDecomposer._circuit_zxz\u001b[0;34m(self, theta, phi, lam, phase, simplify, atol, allow_non_canonical)\u001b[0m\n\u001b[1;32m    353\u001b[0m \u001b[38;5;28;01mdef\u001b[39;00m \u001b[38;5;21m_circuit_zxz\u001b[39m(\n\u001b[1;32m    354\u001b[0m     \u001b[38;5;28mself\u001b[39m, theta, phi, lam, phase, simplify\u001b[38;5;241m=\u001b[39m\u001b[38;5;28;01mTrue\u001b[39;00m, atol\u001b[38;5;241m=\u001b[39mDEFAULT_ATOL, allow_non_canonical\u001b[38;5;241m=\u001b[39m\u001b[38;5;28;01mTrue\u001b[39;00m\n\u001b[1;32m    355\u001b[0m ):\n\u001b[0;32m--> 356\u001b[0m     \u001b[38;5;28;01mreturn\u001b[39;00m \u001b[38;5;28;43mself\u001b[39;49m\u001b[38;5;241;43m.\u001b[39;49m\u001b[43m_circuit_kak\u001b[49m\u001b[43m(\u001b[49m\n\u001b[1;32m    357\u001b[0m \u001b[43m        \u001b[49m\u001b[43mtheta\u001b[49m\u001b[43m,\u001b[49m\n\u001b[1;32m    358\u001b[0m \u001b[43m        \u001b[49m\u001b[43mphi\u001b[49m\u001b[43m,\u001b[49m\n\u001b[1;32m    359\u001b[0m \u001b[43m        \u001b[49m\u001b[43mlam\u001b[49m\u001b[43m,\u001b[49m\n\u001b[1;32m    360\u001b[0m \u001b[43m        \u001b[49m\u001b[43mphase\u001b[49m\u001b[43m,\u001b[49m\n\u001b[1;32m    361\u001b[0m \u001b[43m        \u001b[49m\u001b[43msimplify\u001b[49m\u001b[38;5;241;43m=\u001b[39;49m\u001b[43msimplify\u001b[49m\u001b[43m,\u001b[49m\n\u001b[1;32m    362\u001b[0m \u001b[43m        \u001b[49m\u001b[43matol\u001b[49m\u001b[38;5;241;43m=\u001b[39;49m\u001b[43matol\u001b[49m\u001b[43m,\u001b[49m\n\u001b[1;32m    363\u001b[0m \u001b[43m        \u001b[49m\u001b[43mallow_non_canonical\u001b[49m\u001b[38;5;241;43m=\u001b[39;49m\u001b[43mallow_non_canonical\u001b[49m\u001b[43m,\u001b[49m\n\u001b[1;32m    364\u001b[0m \u001b[43m        \u001b[49m\u001b[43mk_gate\u001b[49m\u001b[38;5;241;43m=\u001b[39;49m\u001b[43mRZGate\u001b[49m\u001b[43m,\u001b[49m\n\u001b[1;32m    365\u001b[0m \u001b[43m        \u001b[49m\u001b[43ma_gate\u001b[49m\u001b[38;5;241;43m=\u001b[39;49m\u001b[43mRXGate\u001b[49m\u001b[43m,\u001b[49m\n\u001b[1;32m    366\u001b[0m \u001b[43m    \u001b[49m\u001b[43m)\u001b[49m\n",
      "File \u001b[0;32m/opt/.qbraid/environments/qbraid_000000/pyenv/lib/python3.9/site-packages/qiskit/quantum_info/synthesis/one_qubit_decompose.py:270\u001b[0m, in \u001b[0;36mOneQubitEulerDecomposer._circuit_kak\u001b[0;34m(self, theta, phi, lam, phase, simplify, atol, allow_non_canonical, k_gate, a_gate)\u001b[0m\n\u001b[1;32m    267\u001b[0m     theta, phi, lam, phase \u001b[38;5;241m=\u001b[39m OneQubitEulerDecomposer\u001b[38;5;241m.\u001b[39m_params_zyz(mat)\n\u001b[1;32m    268\u001b[0m     \u001b[38;5;28;01mreturn\u001b[39;00m theta, phi, lam, phase \u001b[38;5;241m-\u001b[39m \u001b[38;5;241m0.5\u001b[39m \u001b[38;5;241m*\u001b[39m (theta \u001b[38;5;241m+\u001b[39m phi \u001b[38;5;241m+\u001b[39m lam)\n\u001b[0;32m--> 270\u001b[0m \u001b[38;5;28;01mdef\u001b[39;00m \u001b[38;5;21m_circuit_kak\u001b[39m(\n\u001b[1;32m    271\u001b[0m     \u001b[38;5;28mself\u001b[39m,\n\u001b[1;32m    272\u001b[0m     theta,\n\u001b[1;32m    273\u001b[0m     phi,\n\u001b[1;32m    274\u001b[0m     lam,\n\u001b[1;32m    275\u001b[0m     phase,\n\u001b[1;32m    276\u001b[0m     simplify\u001b[38;5;241m=\u001b[39m\u001b[38;5;28;01mTrue\u001b[39;00m,\n\u001b[1;32m    277\u001b[0m     atol\u001b[38;5;241m=\u001b[39mDEFAULT_ATOL,\n\u001b[1;32m    278\u001b[0m     allow_non_canonical\u001b[38;5;241m=\u001b[39m\u001b[38;5;28;01mTrue\u001b[39;00m,\n\u001b[1;32m    279\u001b[0m     k_gate\u001b[38;5;241m=\u001b[39mRZGate,\n\u001b[1;32m    280\u001b[0m     a_gate\u001b[38;5;241m=\u001b[39mRYGate,\n\u001b[1;32m    281\u001b[0m ):\n\u001b[1;32m    282\u001b[0m \u001b[38;5;250m    \u001b[39m\u001b[38;5;124;03m\"\"\"\u001b[39;00m\n\u001b[1;32m    283\u001b[0m \u001b[38;5;124;03m    Installs the angles phi, theta, and lam into a KAK-type decomposition of the form\u001b[39;00m\n\u001b[1;32m    284\u001b[0m \u001b[38;5;124;03m    K(phi) . A(theta) . K(lam) , where K and A are an orthogonal pair drawn from RZGate, RYGate,\u001b[39;00m\n\u001b[0;32m   (...)\u001b[0m\n\u001b[1;32m    302\u001b[0m \u001b[38;5;124;03m        QuantumCircuit: The assembled circuit.\u001b[39;00m\n\u001b[1;32m    303\u001b[0m \u001b[38;5;124;03m    \"\"\"\u001b[39;00m\n\u001b[1;32m    304\u001b[0m     gphase \u001b[38;5;241m=\u001b[39m phase \u001b[38;5;241m-\u001b[39m (phi \u001b[38;5;241m+\u001b[39m lam) \u001b[38;5;241m/\u001b[39m \u001b[38;5;241m2\u001b[39m\n",
      "\u001b[0;31mKeyboardInterrupt\u001b[0m: "
     ]
    }
   ],
   "source": [
    "#Working example\n",
    "global circ, edges\n",
    "clear_output(wait=True)\n",
    "info = []\n",
    "# edges = [[0,1],[2,3]]\n",
    "# alpha_list = [1,2]\n",
    "# beta_list = [2,0]\n",
    "# n = 4\n",
    "# k = 2\n",
    "# init_state = random.sample(range(n),k)\n",
    "# opt_sol = 2\n",
    "n = 8\n",
    "k = 2\n",
    "p = 2\n",
    "init_state = [1,4]\n",
    "edges = [[0, 3],\n",
    " [0, 5],\n",
    " [0, 7],\n",
    " [1, 2],\n",
    " [1, 4],\n",
    " [1, 6],\n",
    " [2, 4],\n",
    " [2, 5],\n",
    " [2, 6],\n",
    " [2, 7],\n",
    " [3, 5],\n",
    " [3, 6],\n",
    " [3, 7],\n",
    " [4, 5],\n",
    " [4, 6],\n",
    " [4, 7],\n",
    " [5, 6],\n",
    " [5, 7],\n",
    " [6, 7]]\n",
    "alpha_list = [0.68172723,3.11384796]\n",
    "beta_list = [5.03486914,0.91427824]\n",
    "opt_sol = 12\n",
    "print(init_state)\n",
    "res = solver(edges,alpha_list,beta_list,n,init_state)\n",
    "\n",
    "alpha_beta_opt = res.x\n",
    "\n",
    "print(alpha_beta_opt)\n",
    "print(hamiltonian_evolution_score(alpha_beta_opt,args=[edges,n,init_state]))\n",
    "print(hamiltonian_evolution_score(alpha_beta_opt,args=[edges,n,init_state])/opt_sol)\n",
    "print(init_state)\n",
    "plt.plot(info)\n"
   ]
  },
  {
   "cell_type": "code",
   "execution_count": null,
   "id": "26065953-f920-4657-929a-f9b7ae3a64e6",
   "metadata": {},
   "outputs": [],
   "source": []
  },
  {
   "cell_type": "code",
   "execution_count": null,
   "id": "87ba15bc-b14e-4a91-ace5-910920caf129",
   "metadata": {},
   "outputs": [],
   "source": []
  }
 ],
 "metadata": {
  "kernelspec": {
   "display_name": "Python 3 [Default]",
   "language": "python",
   "name": "python3"
  },
  "language_info": {
   "codemirror_mode": {
    "name": "ipython",
    "version": 3
   },
   "file_extension": ".py",
   "mimetype": "text/x-python",
   "name": "python",
   "nbconvert_exporter": "python",
   "pygments_lexer": "ipython3",
   "version": "3.9.10"
  }
 },
 "nbformat": 4,
 "nbformat_minor": 5
}

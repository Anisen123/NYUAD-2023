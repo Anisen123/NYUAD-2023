{
 "cells": [
  {
   "cell_type": "code",
   "execution_count": 1,
   "id": "1a316dd1-f630-458c-bcfc-9f8ddea98bee",
   "metadata": {},
   "outputs": [
    {
     "name": "stdout",
     "output_type": "stream",
     "text": [
      "\u001b[0;35mYou have already enabled qBraid Quantum Jobs in the qiskit environment.\u001b[0m\n"
     ]
    }
   ],
   "source": [
    "!qbraid jobs enable qiskit"
   ]
  },
  {
   "cell_type": "code",
   "execution_count": 1,
   "id": "8a99167e-1366-4039-ad18-7ed6e167d487",
   "metadata": {},
   "outputs": [],
   "source": [
    "import qiskit\n",
    "from qiskit import QuantumCircuit, assemble, Aer\n",
    "from math import pi, sqrt\n",
    "from qiskit.visualization import plot_bloch_multivector, plot_histogram\n",
    "from qiskit.circuit.library import XXPlusYYGate\n",
    "from qiskit import *\n",
    "from qiskit import transpile\n",
    "from itertools import combinations as combs\n",
    "import scipy\n",
    "from scipy import *\n",
    "from IPython.display import clear_output\n",
    "import matplotlib.pyplot as plt\n",
    "from qiskit.algorithms.optimizers import SPSA\n",
    "sim = Aer.get_backend('qasm_simulator')\n",
    "import numpy as np\n",
    "import random"
   ]
  },
  {
   "cell_type": "code",
   "execution_count": null,
   "id": "51172ae0-b069-4912-ad2e-3c2992bfd15a",
   "metadata": {},
   "outputs": [],
   "source": [
    "# edges = [[0,1],[2,3]]\n",
    "# qc = QuantumCircuit(4,4)\n",
    "# qc.x(0)\n",
    "# qc.x(1)\n",
    "# alpha_list = [1,2]\n",
    "# beta_list = [1,0]\n",
    "# for a,b in zip(alpha_list,beta_list):\n",
    "#     pH(a,qc,edges)\n",
    "#     mH(b,qc)\n",
    "# qc.measure([x for x in range(qc.num_qubits)],[x for x in range(qc.num_qubits)])\n",
    "# counts = execute(qc,sim,shots=1000).result().get_counts(qc)\n",
    "# print(counts)\n",
    "# for count in counts.keys():\n",
    "#     print(count,score_k(count,edges))\n",
    "# scorer(counts,edges)"
   ]
  },
  {
   "cell_type": "code",
   "execution_count": 11,
   "id": "57d2e465-78f6-4cba-b8dc-79cbf61cc216",
   "metadata": {},
   "outputs": [],
   "source": [
    "def score_k(k,edges):\n",
    "    sum1=0\n",
    "    for edge in edges:\n",
    "        sum1 += int(k[edge[0]])|int(k[edge[1]])\n",
    "    return sum1\n",
    "\n",
    "def scorer(counts,edges):\n",
    "    # dic=dict()\n",
    "    tot_score = 0\n",
    "    for k in counts.keys():\n",
    "        #print(k,score_k(k,edges))\n",
    "        scr=score_k(k,edges)\n",
    "        # if scr not in dic:\n",
    "        #     dic[scr]=0\n",
    "        # dic[scr]+=counts[k]\n",
    "        tot_score += counts[k]/sum(counts.values())*scr\n",
    "    # print(dic)\n",
    "    return -tot_score\n",
    "                    \n",
    "def pH(alpha,qc,edges):\n",
    "    for v_i,v_j in edges:\n",
    "        qc.rz(-alpha/4,v_i)\n",
    "        qc.rz(-alpha/4,v_j)\n",
    "        qc.cx(v_i,v_j)\n",
    "        qc.rz(-alpha/4,v_j)\n",
    "        qc.cx(v_i,v_j)\n",
    "        \n",
    "def mH(beta,qc):\n",
    "    for v_i,v_j in list(combs([x for x in range(qc.num_qubits)],2)):\n",
    "        qc.append(XXPlusYYGate(beta),[v_i,v_j])\n",
    "\n",
    "def hamiltonian_evolution_score(alpha_beta_list,args):\n",
    "    edges = args[0]\n",
    "    n = args[1]\n",
    "    init_state = args[2]\n",
    "    \n",
    "    assert(len(init_state) <= n)\n",
    "    global qc\n",
    "    qc = QuantumCircuit(n,n)\n",
    "    for i in init_state:\n",
    "        qc.x(i)\n",
    "    alpha_list = alpha_beta_list[:len(alpha_beta_list)//2]\n",
    "    beta_list = alpha_beta_list[len(alpha_beta_list)//2:]\n",
    "    for a,b in zip(alpha_list,beta_list):\n",
    "        pH(a,qc,edges)\n",
    "        mH(b,qc)\n",
    "    qc.measure([x for x in range(qc.num_qubits)],[x for x in range(qc.num_qubits)])\n",
    "    counts = execute(qc,sim,shots=1000).result().get_counts(qc)\n",
    "    score = scorer(counts,edges)\n",
    "    # print(score)\n",
    "    return score\n",
    "\n",
    "info = []\n",
    "\n",
    "def callback(x):\n",
    "    info.append(hamiltonian_evolution_score(x,args=[edges,n,init_state]))\n",
    "    plt.plot(info)\n",
    "    plt.show()\n",
    "    clear_output(wait=True)\n",
    "    # return hamiltonian_evolution_score(x,[qc,edges])\n",
    "\n",
    "def solver(edges,alpha_list,beta_list,n,init_state):\n",
    "    a_b_new = scipy.optimize.minimize(hamiltonian_evolution_score,alpha_list+beta_list,args=[edges,n,init_state],callback=callback,method='Nelder-Mead')\n",
    "    return a_b_new\n",
    "     "
   ]
  },
  {
   "cell_type": "code",
   "execution_count": null,
   "id": "51efc234-dfc0-4b44-aff7-55676aad5709",
   "metadata": {},
   "outputs": [],
   "source": [
    "# edges = [[0,1],[2,3]]\n",
    "# alpha_list = [1,2]\n",
    "# beta_list = [1,0]\n",
    "# mat = np.zeros((10,10))\n",
    "# args = edges\n",
    "# for a in range(10):\n",
    "#     print(a)\n",
    "#     for b in range(10):\n",
    "#         alpha = np.linspace(0,np.pi,10)[a]\n",
    "#         beta = np.linspace(0,np.pi,10)[b]\n",
    "#         alpha_beta_list = [alpha]*10+[beta]*10\n",
    "#         mat[a][b] = hamiltonian_evolution_score(alpha_beta_list,args)\n",
    "# print(mat.max())\n",
    "# print(mat)"
   ]
  },
  {
   "cell_type": "code",
   "execution_count": null,
   "id": "04f839a2-9b2f-4194-bcad-76ae83ff6182",
   "metadata": {},
   "outputs": [],
   "source": [
    "# a = 0\n",
    "# b = 4\n",
    "# qc = QuantumCircuit(4,4)\n",
    "# qc.x(0)\n",
    "# qc.x(1)\n",
    "# edges = args\n",
    "# alpha = np.linspace(0,np.pi,10)[a]\n",
    "# beta = np.linspace(0,np.pi,10)[b]\n",
    "# alpha_beta_list = [alpha]*10+[beta]*10\n",
    "# for a,b in zip(alpha_list,beta_list):\n",
    "#     pH(a,qc,edges)\n",
    "#     mH(b,qc)\n",
    "# qc.measure([x for x in range(qc.num_qubits)],[x for x in range(qc.num_qubits)])\n",
    "# counts = execute(qc,sim,shots=1000).result().get_counts(qc)\n",
    "# print(counts)"
   ]
  },
  {
   "cell_type": "code",
   "execution_count": 12,
   "id": "1050317a-bd85-4956-b648-d5f4b66b4a37",
   "metadata": {},
   "outputs": [
    {
     "name": "stdout",
     "output_type": "stream",
     "text": [
      "[ 6.40008545e-01  1.85889893e+00  2.70469971e+00 -4.90905762e-04]\n",
      "-2.0\n",
      "-0.9995\n"
     ]
    }
   ],
   "source": [
    "global circ, edges\n",
    "\n",
    "# edges = [[0,1],[2,3]]\n",
    "# alpha_list = [1,2]\n",
    "# beta_list = [2,0]\n",
    "# n = 4\n",
    "# k = 2\n",
    "# init_state = random.sample(range(n),k)\n",
    "# opt_sol = 2\n",
    "edges = [[0,1],[2,3]]\n",
    "alpha_list = [1,2]\n",
    "beta_list = [2,0]\n",
    "n = 4\n",
    "k = 2\n",
    "init_state = random.sample(range(n),k)\n",
    "opt_sol = 2\n",
    "print(init_state)\n",
    "res = solver(edges,alpha_list,beta_list,n,init_state)\n",
    "\n",
    "alpha_beta_opt = res.x\n",
    "\n",
    "print(alpha_beta_opt)\n",
    "print(hamiltonian_evolution_score(alpha_beta_opt,args=[edges,n,init_state]))\n",
    "print(hamiltonian_evolution_score(alpha_beta_opt,args=[edges,n,init_state])/opt_sol)\n",
    "\n",
    "# counts = execute(circ,sim,shots=1000).result().get_counts(circ)\n",
    "# print(counts)\n",
    "# print(scorer(counts,[[0,1],[2,3]]))\n",
    "# circ.draw()"
   ]
  },
  {
   "cell_type": "code",
   "execution_count": 13,
   "id": "b4f4ee4f-3ad9-4382-a942-6a1ff3a9004b",
   "metadata": {},
   "outputs": [
    {
     "name": "stdout",
     "output_type": "stream",
     "text": [
      "[1, 3]\n"
     ]
    },
    {
     "data": {
      "text/plain": [
       "[<matplotlib.lines.Line2D at 0x7f0c5c38c9a0>]"
      ]
     },
     "execution_count": 13,
     "metadata": {},
     "output_type": "execute_result"
    },
    {
     "data": {
      "image/png": "[encoded data removed]",
      "text/plain": [
       "<Figure size 640x480 with 1 Axes>"
      ]
     },
     "metadata": {},
     "output_type": "display_data"
    }
   ],
   "source": [
    "print(init_state)\n",
    "plt.plot(info)"
   ]
  },
  {
   "cell_type": "code",
   "execution_count": null,
   "id": "b65a4c6c-c1e9-43dc-aa58-1fd6ad0de8cb",
   "metadata": {},
   "outputs": [],
   "source": [
    "# from qiskit.circuit.library import XXPlusYYGate\n",
    "# from qiskit import transpile"
   ]
  },
  {
   "cell_type": "code",
   "execution_count": null,
   "id": "98c54248-4c2b-4d8a-b838-9b3e95aa621f",
   "metadata": {},
   "outputs": [],
   "source": [
    "# circ = QuantumCircuit(2)\n",
    "# circ.append(XXPlusYYGate(1.3),[0,1])\n",
    "# circ = transpile(circ,basis_gates=['id','x','rz','sx','cx'])\n",
    "# circ.draw('mpl')"
   ]
  }
 ],
 "metadata": {
  "kernelspec": {
   "display_name": "Python 3 [Default]",
   "language": "python",
   "name": "python3"
  },
  "language_info": {
   "codemirror_mode": {
    "name": "ipython",
    "version": 3
   },
   "file_extension": ".py",
   "mimetype": "text/x-python",
   "name": "python",
   "nbconvert_exporter": "python",
   "pygments_lexer": "ipython3",
   "version": "3.9.10"
  }
 },
 "nbformat": 4,
 "nbformat_minor": 5
}
